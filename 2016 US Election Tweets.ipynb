{
 "cells": [
  {
   "cell_type": "code",
   "execution_count": 1,
   "metadata": {},
   "outputs": [],
   "source": [
    "import tweepy\n",
    "\n",
    "consumer_key = \"Kmnf8MLIZHwiXiOpGE8vitBbt\"\n",
    "consumer_secret = \"igNLdmsqCxljyOIqAc2UetPqfZWPyZXzmX8I91w4Kup8uLKlZH\"\n",
    "access_token = \"1315527401091203072-RzVmcwVWXy3Zi6yECnlRVvoojXWIxR\"\n",
    "access_token_secret = \"NqHPT7RwsKoL8iyCoGfKqXPKMJiJDbV6Gqis3i0mFU0ed\"\n",
    "\n",
    "auth = tweepy.OAuthHandler(consumer_key, consumer_secret)\n",
    "auth.set_access_token(access_token, access_token_secret)\n",
    "api = tweepy.API(auth,wait_on_rate_limit=True)"
   ]
  },
  {
   "cell_type": "code",
   "execution_count": 2,
   "metadata": {},
   "outputs": [],
   "source": [
    "import time\n",
    "import pandas as pd\n",
    "import datetime\n",
    "\n",
    "def scrapetweets(text_query, dateto):\n",
    "    try:\n",
    "\n",
    "        tweets = tweepy.Cursor(api.search_full_archive,environment_name='dltweetscrape',query=text_query,toDate=dateto,maxResults=500).items(500)\n",
    " \n",
    "        tweets_list = [[tweet.created_at, tweet.id, tweet.text] for tweet in tweets]\n",
    " \n",
    "        tweets_df = pd.DataFrame(tweets_list)\n",
    "    \n",
    "        return tweets_df\n",
    " \n",
    "    except BaseException as e:\n",
    "        print('failed on_status,',str(e))\n",
    "        time.sleep(3)"
   ]
  },
  {
   "cell_type": "code",
   "execution_count": 3,
   "metadata": {},
   "outputs": [],
   "source": [
    "a_text_query = '#VoteHilary OR #VoteBlue OR #ImWithHer OR #nevertrump OR #LoveTrumpsHate'\n",
    "b_text_query = '#VoteTrump OR #VoteRed OR #Trump2016 OR #MakeAmericaGreatAgain OR #BuildTheWall'"
   ]
  },
  {
   "cell_type": "code",
   "execution_count": 4,
   "metadata": {},
   "outputs": [],
   "source": [
    "# T-14 Days\n",
    "todate = '201610250000'\n",
    "\n",
    "a_tweets_df = scrapetweets(a_text_query, todate)\n",
    "for a in range(0,3):\n",
    "    toDT = str(int(todate) + 200 + a*200)\n",
    "    a_tweets_df = a_tweets_df.append(scrapetweets(a_text_query, toDT))"
   ]
  },
  {
   "cell_type": "code",
   "execution_count": 7,
   "metadata": {},
   "outputs": [],
   "source": [
    "# T-30 Days\n",
    "todate = '201610080000'\n",
    "\n",
    "a_tweets_df = a_tweets_df.append(scrapetweets(a_text_query, todate))\n",
    "for a in range(0,3):\n",
    "    toDT = str(int(todate) + 200 + a*200)\n",
    "    a_tweets_df = a_tweets_df.append(scrapetweets(a_text_query, toDT))"
   ]
  },
  {
   "cell_type": "code",
   "execution_count": 8,
   "metadata": {},
   "outputs": [],
   "source": [
    "# T-90 Days\n",
    "todate = '201608080000'\n",
    "\n",
    "a_tweets_df = a_tweets_df.append(scrapetweets(a_text_query, todate))\n",
    "for a in range(0,3):\n",
    "    toDT = str(int(todate) + 200 + a*200)\n",
    "    a_tweets_df = a_tweets_df.append(scrapetweets(a_text_query, toDT))"
   ]
  },
  {
   "cell_type": "code",
   "execution_count": 9,
   "metadata": {},
   "outputs": [],
   "source": [
    "# T-14 Days\n",
    "todate = '201610250000'\n",
    "\n",
    "b_tweets_df = scrapetweets(b_text_query, todate)\n",
    "for b in range(0,3):\n",
    "    toDT = str(int(todate) + 200 + b*200)\n",
    "    b_tweets_df = b_tweets_df.append(scrapetweets(b_text_query, toDT))"
   ]
  },
  {
   "cell_type": "code",
   "execution_count": 10,
   "metadata": {},
   "outputs": [],
   "source": [
    "# T-30 Days\n",
    "todate = '201610080000'\n",
    "\n",
    "b_tweets_df = b_tweets_df.append(scrapetweets(b_text_query, todate))\n",
    "for b in range(0,3):\n",
    "    toDT = str(int(todate) + 200 + b*200)\n",
    "    b_tweets_df = b_tweets_df.append(scrapetweets(b_text_query, toDT))"
   ]
  },
  {
   "cell_type": "code",
   "execution_count": 11,
   "metadata": {},
   "outputs": [],
   "source": [
    "# T-90 Days\n",
    "todate = '201608080000'\n",
    "\n",
    "b_tweets_df = b_tweets_df.append(scrapetweets(b_text_query, todate))\n",
    "for b in range(0,3):\n",
    "    toDT = str(int(todate) + 200 + b*200)\n",
    "    b_tweets_df = b_tweets_df.append(scrapetweets(b_text_query, toDT))"
   ]
  },
  {
   "cell_type": "code",
   "execution_count": 12,
   "metadata": {},
   "outputs": [],
   "source": [
    "a_tweets_df.columns = ['Created At','Tweet Id','Tweet']\n",
    "b_tweets_df.columns = ['Created At','Tweet Id','Tweet']"
   ]
  },
  {
   "cell_type": "code",
   "execution_count": 13,
   "metadata": {},
   "outputs": [
    {
     "data": {
      "text/html": [
       "<div>\n",
       "<style scoped>\n",
       "    .dataframe tbody tr th:only-of-type {\n",
       "        vertical-align: middle;\n",
       "    }\n",
       "\n",
       "    .dataframe tbody tr th {\n",
       "        vertical-align: top;\n",
       "    }\n",
       "\n",
       "    .dataframe thead th {\n",
       "        text-align: right;\n",
       "    }\n",
       "</style>\n",
       "<table border=\"1\" class=\"dataframe\">\n",
       "  <thead>\n",
       "    <tr style=\"text-align: right;\">\n",
       "      <th></th>\n",
       "      <th>Tweet Id</th>\n",
       "    </tr>\n",
       "  </thead>\n",
       "  <tbody>\n",
       "    <tr>\n",
       "      <th>count</th>\n",
       "      <td>6.000000e+03</td>\n",
       "    </tr>\n",
       "    <tr>\n",
       "      <th>mean</th>\n",
       "      <td>7.792720e+17</td>\n",
       "    </tr>\n",
       "    <tr>\n",
       "      <th>std</th>\n",
       "      <td>1.213818e+16</td>\n",
       "    </tr>\n",
       "    <tr>\n",
       "      <th>min</th>\n",
       "      <td>7.624334e+17</td>\n",
       "    </tr>\n",
       "    <tr>\n",
       "      <th>25%</th>\n",
       "      <td>7.625127e+17</td>\n",
       "    </tr>\n",
       "    <tr>\n",
       "      <th>50%</th>\n",
       "      <td>7.845886e+17</td>\n",
       "    </tr>\n",
       "    <tr>\n",
       "      <th>75%</th>\n",
       "      <td>7.907114e+17</td>\n",
       "    </tr>\n",
       "    <tr>\n",
       "      <th>max</th>\n",
       "      <td>7.907950e+17</td>\n",
       "    </tr>\n",
       "  </tbody>\n",
       "</table>\n",
       "</div>"
      ],
      "text/plain": [
       "           Tweet Id\n",
       "count  6.000000e+03\n",
       "mean   7.792720e+17\n",
       "std    1.213818e+16\n",
       "min    7.624334e+17\n",
       "25%    7.625127e+17\n",
       "50%    7.845886e+17\n",
       "75%    7.907114e+17\n",
       "max    7.907950e+17"
      ]
     },
     "execution_count": 13,
     "metadata": {},
     "output_type": "execute_result"
    }
   ],
   "source": [
    "a_tweets_df.describe()"
   ]
  },
  {
   "cell_type": "code",
   "execution_count": 14,
   "metadata": {},
   "outputs": [
    {
     "data": {
      "text/html": [
       "<div>\n",
       "<style scoped>\n",
       "    .dataframe tbody tr th:only-of-type {\n",
       "        vertical-align: middle;\n",
       "    }\n",
       "\n",
       "    .dataframe tbody tr th {\n",
       "        vertical-align: top;\n",
       "    }\n",
       "\n",
       "    .dataframe thead th {\n",
       "        text-align: right;\n",
       "    }\n",
       "</style>\n",
       "<table border=\"1\" class=\"dataframe\">\n",
       "  <thead>\n",
       "    <tr style=\"text-align: right;\">\n",
       "      <th></th>\n",
       "      <th>Tweet Id</th>\n",
       "    </tr>\n",
       "  </thead>\n",
       "  <tbody>\n",
       "    <tr>\n",
       "      <th>count</th>\n",
       "      <td>6.000000e+03</td>\n",
       "    </tr>\n",
       "    <tr>\n",
       "      <th>mean</th>\n",
       "      <td>7.792700e+17</td>\n",
       "    </tr>\n",
       "    <tr>\n",
       "      <th>std</th>\n",
       "      <td>1.213878e+16</td>\n",
       "    </tr>\n",
       "    <tr>\n",
       "      <th>min</th>\n",
       "      <td>7.624259e+17</td>\n",
       "    </tr>\n",
       "    <tr>\n",
       "      <th>25%</th>\n",
       "      <td>7.625082e+17</td>\n",
       "    </tr>\n",
       "    <tr>\n",
       "      <th>50%</th>\n",
       "      <td>7.845857e+17</td>\n",
       "    </tr>\n",
       "    <tr>\n",
       "      <th>75%</th>\n",
       "      <td>7.907112e+17</td>\n",
       "    </tr>\n",
       "    <tr>\n",
       "      <th>max</th>\n",
       "      <td>7.907950e+17</td>\n",
       "    </tr>\n",
       "  </tbody>\n",
       "</table>\n",
       "</div>"
      ],
      "text/plain": [
       "           Tweet Id\n",
       "count  6.000000e+03\n",
       "mean   7.792700e+17\n",
       "std    1.213878e+16\n",
       "min    7.624259e+17\n",
       "25%    7.625082e+17\n",
       "50%    7.845857e+17\n",
       "75%    7.907112e+17\n",
       "max    7.907950e+17"
      ]
     },
     "execution_count": 14,
     "metadata": {},
     "output_type": "execute_result"
    }
   ],
   "source": [
    "b_tweets_df.describe()"
   ]
  },
  {
   "cell_type": "code",
   "execution_count": 15,
   "metadata": {},
   "outputs": [
    {
     "data": {
      "text/html": [
       "<div>\n",
       "<style scoped>\n",
       "    .dataframe tbody tr th:only-of-type {\n",
       "        vertical-align: middle;\n",
       "    }\n",
       "\n",
       "    .dataframe tbody tr th {\n",
       "        vertical-align: top;\n",
       "    }\n",
       "\n",
       "    .dataframe thead th {\n",
       "        text-align: right;\n",
       "    }\n",
       "</style>\n",
       "<table border=\"1\" class=\"dataframe\">\n",
       "  <thead>\n",
       "    <tr style=\"text-align: right;\">\n",
       "      <th></th>\n",
       "      <th>Created At</th>\n",
       "      <th>Tweet Id</th>\n",
       "      <th>Tweet</th>\n",
       "      <th>Label</th>\n",
       "      <th>Length</th>\n",
       "    </tr>\n",
       "  </thead>\n",
       "  <tbody>\n",
       "    <tr>\n",
       "      <th>303</th>\n",
       "      <td>2016-10-08 03:57:12</td>\n",
       "      <td>784603525066199040</td>\n",
       "      <td>When can we expect your endorsement retraction...</td>\n",
       "      <td>Clinton</td>\n",
       "      <td>84</td>\n",
       "    </tr>\n",
       "    <tr>\n",
       "      <th>338</th>\n",
       "      <td>2016-10-07 23:56:56</td>\n",
       "      <td>784543059820351488</td>\n",
       "      <td>RT @TheWomensWatch: A Letter to my Father, The...</td>\n",
       "      <td>Clinton</td>\n",
       "      <td>140</td>\n",
       "    </tr>\n",
       "    <tr>\n",
       "      <th>63</th>\n",
       "      <td>2016-10-25 05:56:39</td>\n",
       "      <td>790794179408384000</td>\n",
       "      <td>She may eat pizza with a fork &amp;amp; knife, but...</td>\n",
       "      <td>Clinton</td>\n",
       "      <td>118</td>\n",
       "    </tr>\n",
       "    <tr>\n",
       "      <th>395</th>\n",
       "      <td>2016-10-08 01:41:29</td>\n",
       "      <td>784569371981209602</td>\n",
       "      <td>RT @Miami4Trump: Only An Evil Woman Would Laug...</td>\n",
       "      <td>Trump</td>\n",
       "      <td>140</td>\n",
       "    </tr>\n",
       "    <tr>\n",
       "      <th>302</th>\n",
       "      <td>2016-08-08 03:43:12</td>\n",
       "      <td>762494341159854085</td>\n",
       "      <td>RT @taradublinrocks: They're running actual fo...</td>\n",
       "      <td>Clinton</td>\n",
       "      <td>140</td>\n",
       "    </tr>\n",
       "  </tbody>\n",
       "</table>\n",
       "</div>"
      ],
      "text/plain": [
       "             Created At            Tweet Id  \\\n",
       "303 2016-10-08 03:57:12  784603525066199040   \n",
       "338 2016-10-07 23:56:56  784543059820351488   \n",
       "63  2016-10-25 05:56:39  790794179408384000   \n",
       "395 2016-10-08 01:41:29  784569371981209602   \n",
       "302 2016-08-08 03:43:12  762494341159854085   \n",
       "\n",
       "                                                 Tweet    Label  Length  \n",
       "303  When can we expect your endorsement retraction...  Clinton      84  \n",
       "338  RT @TheWomensWatch: A Letter to my Father, The...  Clinton     140  \n",
       "63   She may eat pizza with a fork &amp; knife, but...  Clinton     118  \n",
       "395  RT @Miami4Trump: Only An Evil Woman Would Laug...    Trump     140  \n",
       "302  RT @taradublinrocks: They're running actual fo...  Clinton     140  "
      ]
     },
     "execution_count": 15,
     "metadata": {},
     "output_type": "execute_result"
    }
   ],
   "source": [
    "a_tweets_df['Label'] = 'Clinton'\n",
    "b_tweets_df['Label'] = 'Trump'\n",
    "\n",
    "tweets_df = pd.concat([a_tweets_df,b_tweets_df])\n",
    "\n",
    "tweets_df['Length'] = tweets_df['Tweet'].apply(len)\n",
    "\n",
    "tweets_df = tweets_df.sample(frac=1)\n",
    "\n",
    "tweets_df.head()"
   ]
  },
  {
   "cell_type": "code",
   "execution_count": 16,
   "metadata": {},
   "outputs": [],
   "source": [
    "tweets_df.to_csv(\"tweetsfortrain.csv\", index = False, header = True)"
   ]
  },
  {
   "cell_type": "code",
   "execution_count": 1,
   "metadata": {},
   "outputs": [],
   "source": [
    "# Only run this line if reading from existing .csv file\n",
    "import pandas as pd\n",
    "tweets_df = pd.read_csv(\"tweetsfortrain_2016.csv\")"
   ]
  },
  {
   "cell_type": "code",
   "execution_count": 2,
   "metadata": {},
   "outputs": [
    {
     "data": {
      "text/html": [
       "<div>\n",
       "<style scoped>\n",
       "    .dataframe tbody tr th:only-of-type {\n",
       "        vertical-align: middle;\n",
       "    }\n",
       "\n",
       "    .dataframe tbody tr th {\n",
       "        vertical-align: top;\n",
       "    }\n",
       "\n",
       "    .dataframe thead th {\n",
       "        text-align: right;\n",
       "    }\n",
       "</style>\n",
       "<table border=\"1\" class=\"dataframe\">\n",
       "  <thead>\n",
       "    <tr style=\"text-align: right;\">\n",
       "      <th></th>\n",
       "      <th>Created At</th>\n",
       "      <th>Tweet Id</th>\n",
       "      <th>Tweet</th>\n",
       "      <th>Label</th>\n",
       "      <th>Length</th>\n",
       "    </tr>\n",
       "  </thead>\n",
       "  <tbody>\n",
       "    <tr>\n",
       "      <th>0</th>\n",
       "      <td>2016/10/8 03:57</td>\n",
       "      <td>7.846040e+17</td>\n",
       "      <td>When can we expect your endorsement retraction...</td>\n",
       "      <td>Clinton</td>\n",
       "      <td>84</td>\n",
       "    </tr>\n",
       "    <tr>\n",
       "      <th>1</th>\n",
       "      <td>2016/10/7 23:56</td>\n",
       "      <td>7.845430e+17</td>\n",
       "      <td>RT @TheWomensWatch: A Letter to my Father, The...</td>\n",
       "      <td>Clinton</td>\n",
       "      <td>140</td>\n",
       "    </tr>\n",
       "    <tr>\n",
       "      <th>2</th>\n",
       "      <td>2016/10/25 05:56</td>\n",
       "      <td>7.907940e+17</td>\n",
       "      <td>She may eat pizza with a fork &amp;amp; knife, but...</td>\n",
       "      <td>Clinton</td>\n",
       "      <td>118</td>\n",
       "    </tr>\n",
       "    <tr>\n",
       "      <th>3</th>\n",
       "      <td>2016/10/8 01:41</td>\n",
       "      <td>7.845690e+17</td>\n",
       "      <td>RT @Miami4Trump: Only An Evil Woman Would Laug...</td>\n",
       "      <td>Trump</td>\n",
       "      <td>140</td>\n",
       "    </tr>\n",
       "    <tr>\n",
       "      <th>4</th>\n",
       "      <td>2016/8/8 03:43</td>\n",
       "      <td>7.624940e+17</td>\n",
       "      <td>RT @taradublinrocks: They're running actual fo...</td>\n",
       "      <td>Clinton</td>\n",
       "      <td>140</td>\n",
       "    </tr>\n",
       "  </tbody>\n",
       "</table>\n",
       "</div>"
      ],
      "text/plain": [
       "         Created At      Tweet Id  \\\n",
       "0   2016/10/8 03:57  7.846040e+17   \n",
       "1   2016/10/7 23:56  7.845430e+17   \n",
       "2  2016/10/25 05:56  7.907940e+17   \n",
       "3   2016/10/8 01:41  7.845690e+17   \n",
       "4    2016/8/8 03:43  7.624940e+17   \n",
       "\n",
       "                                               Tweet    Label  Length  \n",
       "0  When can we expect your endorsement retraction...  Clinton      84  \n",
       "1  RT @TheWomensWatch: A Letter to my Father, The...  Clinton     140  \n",
       "2  She may eat pizza with a fork &amp; knife, but...  Clinton     118  \n",
       "3  RT @Miami4Trump: Only An Evil Woman Would Laug...    Trump     140  \n",
       "4  RT @taradublinrocks: They're running actual fo...  Clinton     140  "
      ]
     },
     "execution_count": 2,
     "metadata": {},
     "output_type": "execute_result"
    }
   ],
   "source": [
    "tweets_df.head()"
   ]
  },
  {
   "cell_type": "code",
   "execution_count": 3,
   "metadata": {},
   "outputs": [],
   "source": [
    "tweets_df.drop_duplicates(subset='Tweet',inplace=True)"
   ]
  },
  {
   "cell_type": "code",
   "execution_count": 4,
   "metadata": {},
   "outputs": [
    {
     "data": {
      "text/plain": [
       "count    6408.000000\n",
       "mean      119.139201\n",
       "std        28.371864\n",
       "min        10.000000\n",
       "25%       104.000000\n",
       "50%       134.000000\n",
       "75%       140.000000\n",
       "max       152.000000\n",
       "Name: Length, dtype: float64"
      ]
     },
     "execution_count": 4,
     "metadata": {},
     "output_type": "execute_result"
    },
    {
     "data": {
      "image/png": "[encoded data removed]",
      "text/plain": [
       "<Figure size 432x288 with 1 Axes>"
      ]
     },
     "metadata": {
      "needs_background": "light"
     },
     "output_type": "display_data"
    }
   ],
   "source": [
    "import matplotlib.pyplot as plt\n",
    "import seaborn as sns\n",
    "\n",
    "%matplotlib inline\n",
    "\n",
    "tweets_df['Length'].plot(bins=50, kind='hist') \n",
    "tweets_df['Length'].describe()"
   ]
  },
  {
   "cell_type": "code",
   "execution_count": 5,
   "metadata": {},
   "outputs": [
    {
     "data": {
      "text/plain": [
       "0        [expect, endorsement, retraction, nevertrump]\n",
       "1    [thewomenswatch, letter, father, man, chose, d...\n",
       "2    [may, eat, pizza, fork, amp, knife, freakin, p...\n",
       "3    [miami4trump, evil, woman, would, laugh, getti...\n",
       "4    [taradublinrocks, theyre, running, actual, foo...\n",
       "Name: Tweet, dtype: object"
      ]
     },
     "execution_count": 5,
     "metadata": {},
     "output_type": "execute_result"
    }
   ],
   "source": [
    "import string\n",
    "import re\n",
    "from nltk.corpus import stopwords\n",
    "from nltk.util import ngrams\n",
    "\n",
    "def text_process(mess):\n",
    "\n",
    "#    mess = re.sub('@[^\\s]+', 'AT_USER', mess)\n",
    "    \n",
    "    mess = re.sub('((www\\.[^\\s]+)|(https?://[^\\s]+))', 'URL', mess)\n",
    "    \n",
    "#    mess = re.sub('#[^\\s]+', 'HASHTAG', mess)\n",
    "    \n",
    "    nopunc = [char for char in mess if char not in string.punctuation]\n",
    "\n",
    "    nopunc = ''.join(nopunc)\n",
    "    \n",
    "    words = [word.lower() for word in nopunc.split() if word.lower() not in set(stopwords.words('english') + ['url','rt','hashtag'])]\n",
    "\n",
    "    return words\n",
    "\n",
    "#    return ngrams(words,2)\n",
    "\n",
    "tweets_df['Tweet'].head(5).apply(text_process)"
   ]
  },
  {
   "cell_type": "code",
   "execution_count": 6,
   "metadata": {},
   "outputs": [
    {
     "name": "stdout",
     "output_type": "stream",
     "text": [
      "13731\n"
     ]
    }
   ],
   "source": [
    "from sklearn.feature_extraction.text import CountVectorizer\n",
    "bow_transformer = CountVectorizer(analyzer=text_process).fit(tweets_df['Tweet'])\n",
    "print(len(bow_transformer.vocabulary_))"
   ]
  },
  {
   "cell_type": "code",
   "execution_count": 7,
   "metadata": {},
   "outputs": [
    {
     "name": "stdout",
     "output_type": "stream",
     "text": [
      "Shape of Sparse Matrix:  (6408, 13731)\n",
      "Amount of Non-Zero occurences:  62041\n"
     ]
    }
   ],
   "source": [
    "tweets_bow = bow_transformer.transform(tweets_df['Tweet'])\n",
    "print('Shape of Sparse Matrix: ', tweets_bow.shape)\n",
    "print('Amount of Non-Zero occurences: ', tweets_bow.nnz)"
   ]
  },
  {
   "cell_type": "code",
   "execution_count": 8,
   "metadata": {},
   "outputs": [
    {
     "name": "stdout",
     "output_type": "stream",
     "text": [
      "(6408, 13731)\n"
     ]
    }
   ],
   "source": [
    "from sklearn.feature_extraction.text import TfidfTransformer\n",
    "tfidf_transformer = TfidfTransformer().fit(tweets_bow)\n",
    "\n",
    "tweets_tfidf = tfidf_transformer.transform(tweets_bow)\n",
    "print(tweets_tfidf.shape)"
   ]
  },
  {
   "cell_type": "code",
   "execution_count": 9,
   "metadata": {},
   "outputs": [
    {
     "name": "stdout",
     "output_type": "stream",
     "text": [
      "5126 1282 6408\n"
     ]
    }
   ],
   "source": [
    "from sklearn.naive_bayes import MultinomialNB\n",
    "from sklearn.model_selection import train_test_split\n",
    "\n",
    "tweet_train, tweet_test, label_train, label_test = train_test_split(tweets_df['Tweet'], tweets_df['Label'], test_size=0.2)\n",
    "\n",
    "print(len(tweet_train), len(tweet_test), len(tweet_train) + len(tweet_test))"
   ]
  },
  {
   "cell_type": "code",
   "execution_count": 10,
   "metadata": {},
   "outputs": [],
   "source": [
    "from sklearn.pipeline import Pipeline\n",
    "\n",
    "pipeline = Pipeline([\n",
    "    ('bow', CountVectorizer(analyzer=text_process)),\n",
    "    ('tfidf', TfidfTransformer()),\n",
    "    ('classifier', MultinomialNB()),\n",
    "])"
   ]
  },
  {
   "cell_type": "code",
   "execution_count": 12,
   "metadata": {},
   "outputs": [
    {
     "data": {
      "text/plain": [
       "Pipeline(memory=None,\n",
       "         steps=[('bow',\n",
       "                 CountVectorizer(analyzer=<function text_process at 0x7febedaba9d8>,\n",
       "                                 binary=False, decode_error='strict',\n",
       "                                 dtype=<class 'numpy.int64'>, encoding='utf-8',\n",
       "                                 input='content', lowercase=True, max_df=1.0,\n",
       "                                 max_features=None, min_df=1,\n",
       "                                 ngram_range=(1, 1), preprocessor=None,\n",
       "                                 stop_words=None, strip_accents=None,\n",
       "                                 token_pattern='(?u)\\\\b\\\\w\\\\w+\\\\b',\n",
       "                                 tokenizer=None, vocabulary=None)),\n",
       "                ('tfidf',\n",
       "                 TfidfTransformer(norm='l2', smooth_idf=True,\n",
       "                                  sublinear_tf=False, use_idf=True)),\n",
       "                ('classifier',\n",
       "                 MultinomialNB(alpha=1.0, class_prior=None, fit_prior=True))],\n",
       "         verbose=False)"
      ]
     },
     "execution_count": 12,
     "metadata": {},
     "output_type": "execute_result"
    }
   ],
   "source": [
    "pipeline.fit(tweet_train,label_train)"
   ]
  },
  {
   "cell_type": "code",
   "execution_count": 13,
   "metadata": {},
   "outputs": [],
   "source": [
    "predictions = pipeline.predict(tweet_test)"
   ]
  },
  {
   "cell_type": "code",
   "execution_count": 14,
   "metadata": {},
   "outputs": [
    {
     "name": "stdout",
     "output_type": "stream",
     "text": [
      "              precision    recall  f1-score   support\n",
      "\n",
      "     Clinton       0.98      0.89      0.94       860\n",
      "       Trump       0.82      0.97      0.89       422\n",
      "\n",
      "    accuracy                           0.92      1282\n",
      "   macro avg       0.90      0.93      0.91      1282\n",
      "weighted avg       0.93      0.92      0.92      1282\n",
      "\n"
     ]
    }
   ],
   "source": [
    "from sklearn.metrics import classification_report\n",
    "print(classification_report(predictions,label_test))"
   ]
  },
  {
   "cell_type": "code",
   "execution_count": 15,
   "metadata": {},
   "outputs": [
    {
     "name": "stderr",
     "output_type": "stream",
     "text": [
      "/Users/lauhiuyan/anaconda3/lib/python3.7/site-packages/sklearn/externals/joblib/__init__.py:15: DeprecationWarning: sklearn.externals.joblib is deprecated in 0.21 and will be removed in 0.23. Please import this functionality directly from joblib, which can be installed with: pip install joblib. If this warning is raised when loading pickled models, you may need to re-serialize those models with scikit-learn 0.21+.\n",
      "  warnings.warn(msg, category=DeprecationWarning)\n"
     ]
    },
    {
     "data": {
      "text/plain": [
       "['election_nlp_v1.x']"
      ]
     },
     "execution_count": 15,
     "metadata": {},
     "output_type": "execute_result"
    }
   ],
   "source": [
    "from sklearn.externals import joblib\n",
    "\n",
    "joblib.dump(pipeline, 'election_nlp_v1.x')"
   ]
  },
  {
   "cell_type": "code",
   "execution_count": 54,
   "metadata": {},
   "outputs": [],
   "source": [
    "c_text_query = '#2016election OR #uselection'\n",
    "\n",
    "# T-90 Days\n",
    "todate = '201608080000'\n",
    "\n",
    "c_tweets_df = scrapetweets(c_text_query, todate)\n",
    "for c in range(0,3):\n",
    "    toDT = str(int(todate) + 200 + c*200)\n",
    "    c_tweets_df = c_tweets_df.append(scrapetweets(c_text_query, toDT))"
   ]
  },
  {
   "cell_type": "code",
   "execution_count": 55,
   "metadata": {},
   "outputs": [],
   "source": [
    "c_tweets_df.columns = ['Created At','Tweet Id','Tweet']"
   ]
  },
  {
   "cell_type": "code",
   "execution_count": 56,
   "metadata": {},
   "outputs": [
    {
     "data": {
      "text/html": [
       "<div>\n",
       "<style scoped>\n",
       "    .dataframe tbody tr th:only-of-type {\n",
       "        vertical-align: middle;\n",
       "    }\n",
       "\n",
       "    .dataframe tbody tr th {\n",
       "        vertical-align: top;\n",
       "    }\n",
       "\n",
       "    .dataframe thead th {\n",
       "        text-align: right;\n",
       "    }\n",
       "</style>\n",
       "<table border=\"1\" class=\"dataframe\">\n",
       "  <thead>\n",
       "    <tr style=\"text-align: right;\">\n",
       "      <th></th>\n",
       "      <th>Tweet Id</th>\n",
       "    </tr>\n",
       "  </thead>\n",
       "  <tbody>\n",
       "    <tr>\n",
       "      <th>count</th>\n",
       "      <td>2.000000e+03</td>\n",
       "    </tr>\n",
       "    <tr>\n",
       "      <th>mean</th>\n",
       "      <td>7.624024e+17</td>\n",
       "    </tr>\n",
       "    <tr>\n",
       "      <th>std</th>\n",
       "      <td>3.756055e+13</td>\n",
       "    </tr>\n",
       "    <tr>\n",
       "      <th>min</th>\n",
       "      <td>7.623535e+17</td>\n",
       "    </tr>\n",
       "    <tr>\n",
       "      <th>25%</th>\n",
       "      <td>7.623680e+17</td>\n",
       "    </tr>\n",
       "    <tr>\n",
       "      <th>50%</th>\n",
       "      <td>7.623931e+17</td>\n",
       "    </tr>\n",
       "    <tr>\n",
       "      <th>75%</th>\n",
       "      <td>7.624286e+17</td>\n",
       "    </tr>\n",
       "    <tr>\n",
       "      <th>max</th>\n",
       "      <td>7.625268e+17</td>\n",
       "    </tr>\n",
       "  </tbody>\n",
       "</table>\n",
       "</div>"
      ],
      "text/plain": [
       "           Tweet Id\n",
       "count  2.000000e+03\n",
       "mean   7.624024e+17\n",
       "std    3.756055e+13\n",
       "min    7.623535e+17\n",
       "25%    7.623680e+17\n",
       "50%    7.623931e+17\n",
       "75%    7.624286e+17\n",
       "max    7.625268e+17"
      ]
     },
     "execution_count": 56,
     "metadata": {},
     "output_type": "execute_result"
    }
   ],
   "source": [
    "c_tweets_df.describe()"
   ]
  },
  {
   "cell_type": "code",
   "execution_count": 57,
   "metadata": {},
   "outputs": [
    {
     "data": {
      "text/html": [
       "<div>\n",
       "<style scoped>\n",
       "    .dataframe tbody tr th:only-of-type {\n",
       "        vertical-align: middle;\n",
       "    }\n",
       "\n",
       "    .dataframe tbody tr th {\n",
       "        vertical-align: top;\n",
       "    }\n",
       "\n",
       "    .dataframe thead th {\n",
       "        text-align: right;\n",
       "    }\n",
       "</style>\n",
       "<table border=\"1\" class=\"dataframe\">\n",
       "  <thead>\n",
       "    <tr style=\"text-align: right;\">\n",
       "      <th></th>\n",
       "      <th>Created At</th>\n",
       "      <th>Tweet Id</th>\n",
       "      <th>Tweet</th>\n",
       "      <th>Length</th>\n",
       "    </tr>\n",
       "  </thead>\n",
       "  <tbody>\n",
       "    <tr>\n",
       "      <th>0</th>\n",
       "      <td>2016-08-07 23:59:29</td>\n",
       "      <td>762438043676450817</td>\n",
       "      <td>RT @GovGaryJohnson: .@GovBillWeld &amp;amp; I are ...</td>\n",
       "      <td>138</td>\n",
       "    </tr>\n",
       "    <tr>\n",
       "      <th>1</th>\n",
       "      <td>2016-08-07 23:55:22</td>\n",
       "      <td>762437006077022209</td>\n",
       "      <td>RT @JohnRMoffitt: #2016Election Republicans ha...</td>\n",
       "      <td>140</td>\n",
       "    </tr>\n",
       "    <tr>\n",
       "      <th>2</th>\n",
       "      <td>2016-08-07 23:54:55</td>\n",
       "      <td>762436893820596224</td>\n",
       "      <td>Check out this 2016 election forecast via @270...</td>\n",
       "      <td>89</td>\n",
       "    </tr>\n",
       "    <tr>\n",
       "      <th>3</th>\n",
       "      <td>2016-08-07 23:53:46</td>\n",
       "      <td>762436604082331648</td>\n",
       "      <td>RT @GovGaryJohnson: .@GovBillWeld &amp;amp; I are ...</td>\n",
       "      <td>138</td>\n",
       "    </tr>\n",
       "    <tr>\n",
       "      <th>4</th>\n",
       "      <td>2016-08-07 23:52:23</td>\n",
       "      <td>762436258018668544</td>\n",
       "      <td>RT @JohnRMoffitt: #PsychoTrump #2016Election W...</td>\n",
       "      <td>140</td>\n",
       "    </tr>\n",
       "  </tbody>\n",
       "</table>\n",
       "</div>"
      ],
      "text/plain": [
       "           Created At            Tweet Id  \\\n",
       "0 2016-08-07 23:59:29  762438043676450817   \n",
       "1 2016-08-07 23:55:22  762437006077022209   \n",
       "2 2016-08-07 23:54:55  762436893820596224   \n",
       "3 2016-08-07 23:53:46  762436604082331648   \n",
       "4 2016-08-07 23:52:23  762436258018668544   \n",
       "\n",
       "                                               Tweet  Length  \n",
       "0  RT @GovGaryJohnson: .@GovBillWeld &amp; I are ...     138  \n",
       "1  RT @JohnRMoffitt: #2016Election Republicans ha...     140  \n",
       "2  Check out this 2016 election forecast via @270...      89  \n",
       "3  RT @GovGaryJohnson: .@GovBillWeld &amp; I are ...     138  \n",
       "4  RT @JohnRMoffitt: #PsychoTrump #2016Election W...     140  "
      ]
     },
     "execution_count": 57,
     "metadata": {},
     "output_type": "execute_result"
    }
   ],
   "source": [
    "c_tweets_df['Length'] = c_tweets_df['Tweet'].apply(len)\n",
    "c_tweets_df.head()"
   ]
  },
  {
   "cell_type": "code",
   "execution_count": 33,
   "metadata": {},
   "outputs": [],
   "source": [
    "# Only run this line if reading from existing .csv file\n",
    "c_tweets_df = pd.read_csv(\"predictionresult_2016_t90.csv\")"
   ]
  },
  {
   "cell_type": "code",
   "execution_count": 34,
   "metadata": {},
   "outputs": [],
   "source": [
    "c_tweets_df.drop_duplicates(subset='Tweet',inplace=True)"
   ]
  },
  {
   "cell_type": "code",
   "execution_count": 35,
   "metadata": {},
   "outputs": [],
   "source": [
    "predictions_c = pipeline.predict(c_tweets_df['Tweet'])"
   ]
  },
  {
   "cell_type": "code",
   "execution_count": 36,
   "metadata": {},
   "outputs": [
    {
     "data": {
      "text/plain": [
       "array(['Clinton', 'Clinton', 'Clinton', 'Clinton', 'Trump', 'Trump',\n",
       "       'Clinton', 'Trump', 'Clinton', 'Clinton', 'Clinton', 'Clinton',\n",
       "       'Clinton', 'Clinton', 'Clinton', 'Clinton', 'Clinton', 'Clinton',\n",
       "       'Clinton', 'Clinton', 'Clinton', 'Clinton', 'Clinton', 'Clinton',\n",
       "       'Clinton', 'Clinton', 'Clinton', 'Clinton', 'Clinton', 'Clinton',\n",
       "       'Clinton', 'Clinton', 'Clinton', 'Clinton', 'Clinton', 'Clinton',\n",
       "       'Clinton', 'Clinton', 'Clinton', 'Clinton', 'Clinton', 'Clinton',\n",
       "       'Clinton', 'Clinton', 'Clinton', 'Clinton', 'Clinton', 'Clinton',\n",
       "       'Clinton', 'Clinton', 'Clinton', 'Clinton', 'Clinton', 'Clinton',\n",
       "       'Clinton', 'Clinton', 'Trump', 'Clinton', 'Clinton', 'Clinton',\n",
       "       'Clinton', 'Clinton', 'Clinton', 'Clinton', 'Clinton', 'Clinton',\n",
       "       'Clinton', 'Clinton', 'Clinton', 'Clinton', 'Clinton', 'Clinton',\n",
       "       'Clinton', 'Clinton', 'Clinton', 'Clinton', 'Clinton', 'Clinton',\n",
       "       'Clinton', 'Clinton', 'Clinton', 'Clinton', 'Clinton', 'Clinton',\n",
       "       'Clinton', 'Clinton', 'Trump', 'Trump', 'Clinton', 'Trump',\n",
       "       'Clinton', 'Clinton', 'Clinton', 'Clinton', 'Clinton', 'Trump',\n",
       "       'Clinton', 'Clinton', 'Clinton', 'Clinton', 'Clinton', 'Clinton',\n",
       "       'Trump', 'Clinton', 'Clinton', 'Clinton', 'Clinton', 'Clinton',\n",
       "       'Clinton', 'Clinton', 'Clinton', 'Clinton', 'Clinton', 'Clinton',\n",
       "       'Clinton', 'Clinton', 'Clinton', 'Clinton', 'Trump', 'Clinton',\n",
       "       'Clinton', 'Clinton', 'Trump', 'Clinton', 'Clinton', 'Clinton',\n",
       "       'Trump', 'Clinton', 'Clinton', 'Clinton', 'Trump', 'Clinton',\n",
       "       'Clinton', 'Clinton', 'Clinton', 'Clinton', 'Clinton', 'Trump',\n",
       "       'Clinton', 'Clinton', 'Clinton', 'Clinton', 'Clinton', 'Clinton',\n",
       "       'Clinton', 'Clinton', 'Clinton', 'Clinton', 'Clinton', 'Clinton',\n",
       "       'Clinton', 'Clinton', 'Trump', 'Clinton', 'Clinton', 'Trump',\n",
       "       'Clinton', 'Clinton', 'Clinton', 'Clinton', 'Clinton', 'Clinton',\n",
       "       'Trump', 'Clinton', 'Clinton', 'Trump', 'Clinton', 'Clinton',\n",
       "       'Trump', 'Clinton', 'Trump', 'Trump', 'Clinton', 'Clinton',\n",
       "       'Clinton', 'Clinton', 'Clinton', 'Clinton', 'Clinton', 'Clinton',\n",
       "       'Clinton', 'Clinton', 'Clinton', 'Clinton', 'Clinton', 'Clinton',\n",
       "       'Clinton', 'Clinton', 'Clinton', 'Clinton', 'Clinton', 'Clinton',\n",
       "       'Clinton', 'Clinton', 'Clinton', 'Clinton', 'Clinton'], dtype='<U7')"
      ]
     },
     "execution_count": 36,
     "metadata": {},
     "output_type": "execute_result"
    }
   ],
   "source": [
    "predictions_c"
   ]
  },
  {
   "cell_type": "code",
   "execution_count": 37,
   "metadata": {},
   "outputs": [],
   "source": [
    "c_tweets_df['Prediction'] = predictions_c"
   ]
  },
  {
   "cell_type": "code",
   "execution_count": 38,
   "metadata": {},
   "outputs": [],
   "source": [
    "import numpy as np\n",
    "result_table = pd.DataFrame(np.array([sum(predictions_c == 'Trump'),sum(predictions_c == 'Clinton')]) , columns=['Counts'])"
   ]
  },
  {
   "cell_type": "code",
   "execution_count": 39,
   "metadata": {},
   "outputs": [],
   "source": [
    "result_table.rename(index={0: \"Trump\", 1: \"Clinton\"}, inplace=True)"
   ]
  },
  {
   "cell_type": "code",
   "execution_count": 40,
   "metadata": {},
   "outputs": [
    {
     "data": {
      "text/html": [
       "<div>\n",
       "<style scoped>\n",
       "    .dataframe tbody tr th:only-of-type {\n",
       "        vertical-align: middle;\n",
       "    }\n",
       "\n",
       "    .dataframe tbody tr th {\n",
       "        vertical-align: top;\n",
       "    }\n",
       "\n",
       "    .dataframe thead th {\n",
       "        text-align: right;\n",
       "    }\n",
       "</style>\n",
       "<table border=\"1\" class=\"dataframe\">\n",
       "  <thead>\n",
       "    <tr style=\"text-align: right;\">\n",
       "      <th></th>\n",
       "      <th>Counts</th>\n",
       "    </tr>\n",
       "  </thead>\n",
       "  <tbody>\n",
       "    <tr>\n",
       "      <th>Trump</th>\n",
       "      <td>21</td>\n",
       "    </tr>\n",
       "    <tr>\n",
       "      <th>Clinton</th>\n",
       "      <td>176</td>\n",
       "    </tr>\n",
       "  </tbody>\n",
       "</table>\n",
       "</div>"
      ],
      "text/plain": [
       "         Counts\n",
       "Trump        21\n",
       "Clinton     176"
      ]
     },
     "execution_count": 40,
     "metadata": {},
     "output_type": "execute_result"
    }
   ],
   "source": [
    "result_table"
   ]
  },
  {
   "cell_type": "code",
   "execution_count": 41,
   "metadata": {},
   "outputs": [],
   "source": [
    "c_tweets_df.to_csv(\"predictionresult_2016_t90_words.csv\", index = False, header = True)"
   ]
  },
  {
   "cell_type": "code",
   "execution_count": null,
   "metadata": {},
   "outputs": [],
   "source": []
  }
 ],
 "metadata": {
  "kernelspec": {
   "display_name": "Python 3",
   "language": "python",
   "name": "python3"
  },
  "language_info": {
   "codemirror_mode": {
    "name": "ipython",
    "version": 3
   },
   "file_extension": ".py",
   "mimetype": "text/x-python",
   "name": "python",
   "nbconvert_exporter": "python",
   "pygments_lexer": "ipython3",
   "version": "3.7.3"
  }
 },
 "nbformat": 4,
 "nbformat_minor": 2
}

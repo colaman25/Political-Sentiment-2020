{
 "cells": [
  {
   "cell_type": "code",
   "execution_count": 1,
   "metadata": {},
   "outputs": [],
   "source": [
    "import tweepy\n",
    "\n",
    "# Insert Tweepy Authentication Codes Here"
   ]
  },
  {
   "cell_type": "code",
   "execution_count": 2,
   "metadata": {},
   "outputs": [],
   "source": [
    "import time\n",
    "import pandas as pd\n",
    "import datetime\n",
    "\n",
    "def scrapetweets(text_query, dateto):\n",
    "    try:\n",
    "\n",
    "        tweets = tweepy.Cursor(api.search_full_archive,environment_name='dltweetscrape',query=text_query,toDate=dateto,maxResults=500).items(500)\n",
    " \n",
    "        tweets_list = [[tweet.created_at, tweet.id, tweet.text] for tweet in tweets]\n",
    " \n",
    "        tweets_df = pd.DataFrame(tweets_list)\n",
    "    \n",
    "        return tweets_df\n",
    " \n",
    "    except BaseException as e:\n",
    "        print('failed on_status,',str(e))\n",
    "        time.sleep(3)"
   ]
  },
  {
   "cell_type": "code",
   "execution_count": 3,
   "metadata": {},
   "outputs": [],
   "source": [
    "a_text_query = '#VoteBiden OR #VoteBlue'\n",
    "b_text_query = '#VoteTrump OR #VoteRed OR #MAGA OR #Trump2020 OR #4MoreYears'"
   ]
  },
  {
   "cell_type": "code",
   "execution_count": 5,
   "metadata": {},
   "outputs": [],
   "source": [
    "# T-14 Days\n",
    "todate = '202010200000'\n",
    "\n",
    "a_tweets_df = scrapetweets(a_text_query, todate)\n",
    "for a in range(0,3):\n",
    "    toDT = str(int(todate) + 200 + a*200)\n",
    "    a_tweets_df = a_tweets_df.append(scrapetweets(a_text_query, toDT))"
   ]
  },
  {
   "cell_type": "code",
   "execution_count": 6,
   "metadata": {},
   "outputs": [],
   "source": [
    "# T-30 Days\n",
    "todate = '202010030000'\n",
    "\n",
    "a_tweets_df = a_tweets_df.append(scrapetweets(a_text_query, todate))\n",
    "for a in range(0,3):\n",
    "    toDT = str(int(todate) + 200 + a*200)\n",
    "    a_tweets_df = a_tweets_df.append(scrapetweets(a_text_query, toDT))"
   ]
  },
  {
   "cell_type": "code",
   "execution_count": 7,
   "metadata": {},
   "outputs": [],
   "source": [
    "# T-90 Days\n",
    "todate = '202008030000'\n",
    "\n",
    "a_tweets_df = a_tweets_df.append(scrapetweets(a_text_query, todate))\n",
    "for a in range(0,3):\n",
    "    toDT = str(int(todate) + 200 + a*200)\n",
    "    a_tweets_df = a_tweets_df.append(scrapetweets(a_text_query, toDT))"
   ]
  },
  {
   "cell_type": "code",
   "execution_count": 8,
   "metadata": {},
   "outputs": [],
   "source": [
    "# T-14 Days\n",
    "todate = '202010200000'\n",
    "\n",
    "b_tweets_df = scrapetweets(b_text_query, todate)\n",
    "for b in range(0,3):\n",
    "    toDT = str(int(todate) + 200 + b*200)\n",
    "    b_tweets_df = b_tweets_df.append(scrapetweets(b_text_query, toDT))"
   ]
  },
  {
   "cell_type": "code",
   "execution_count": 9,
   "metadata": {},
   "outputs": [],
   "source": [
    "# T-30 Days\n",
    "todate = '202010030000'\n",
    "\n",
    "b_tweets_df = b_tweets_df.append(scrapetweets(b_text_query, todate))\n",
    "for b in range(0,3):\n",
    "    toDT = str(int(todate) + 200 + b*200)\n",
    "    b_tweets_df = b_tweets_df.append(scrapetweets(b_text_query, toDT))"
   ]
  },
  {
   "cell_type": "code",
   "execution_count": 10,
   "metadata": {},
   "outputs": [],
   "source": [
    "# T-90 Days\n",
    "todate = '202008030000'\n",
    "\n",
    "b_tweets_df = b_tweets_df.append(scrapetweets(b_text_query, todate))\n",
    "for b in range(0,3):\n",
    "    toDT = str(int(todate) + 200 + b*200)\n",
    "    b_tweets_df = b_tweets_df.append(scrapetweets(b_text_query, toDT))"
   ]
  },
  {
   "cell_type": "code",
   "execution_count": 11,
   "metadata": {},
   "outputs": [],
   "source": [
    "a_tweets_df.columns = ['Created At','Tweet Id','Tweet']\n",
    "b_tweets_df.columns = ['Created At','Tweet Id','Tweet']"
   ]
  },
  {
   "cell_type": "code",
   "execution_count": 12,
   "metadata": {},
   "outputs": [
    {
     "data": {
      "text/html": [
       "<div>\n",
       "<style scoped>\n",
       "    .dataframe tbody tr th:only-of-type {\n",
       "        vertical-align: middle;\n",
       "    }\n",
       "\n",
       "    .dataframe tbody tr th {\n",
       "        vertical-align: top;\n",
       "    }\n",
       "\n",
       "    .dataframe thead th {\n",
       "        text-align: right;\n",
       "    }\n",
       "</style>\n",
       "<table border=\"1\" class=\"dataframe\">\n",
       "  <thead>\n",
       "    <tr style=\"text-align: right;\">\n",
       "      <th></th>\n",
       "      <th>Tweet Id</th>\n",
       "    </tr>\n",
       "  </thead>\n",
       "  <tbody>\n",
       "    <tr>\n",
       "      <th>count</th>\n",
       "      <td>6.000000e+03</td>\n",
       "    </tr>\n",
       "    <tr>\n",
       "      <th>mean</th>\n",
       "      <td>1.306899e+18</td>\n",
       "    </tr>\n",
       "    <tr>\n",
       "      <th>std</th>\n",
       "      <td>1.214276e+16</td>\n",
       "    </tr>\n",
       "    <tr>\n",
       "      <th>min</th>\n",
       "      <td>1.290053e+18</td>\n",
       "    </tr>\n",
       "    <tr>\n",
       "      <th>25%</th>\n",
       "      <td>1.290125e+18</td>\n",
       "    </tr>\n",
       "    <tr>\n",
       "      <th>50%</th>\n",
       "      <td>1.312215e+18</td>\n",
       "    </tr>\n",
       "    <tr>\n",
       "      <th>75%</th>\n",
       "      <td>1.318347e+18</td>\n",
       "    </tr>\n",
       "    <tr>\n",
       "      <th>max</th>\n",
       "      <td>1.318432e+18</td>\n",
       "    </tr>\n",
       "  </tbody>\n",
       "</table>\n",
       "</div>"
      ],
      "text/plain": [
       "           Tweet Id\n",
       "count  6.000000e+03\n",
       "mean   1.306899e+18\n",
       "std    1.214276e+16\n",
       "min    1.290053e+18\n",
       "25%    1.290125e+18\n",
       "50%    1.312215e+18\n",
       "75%    1.318347e+18\n",
       "max    1.318432e+18"
      ]
     },
     "execution_count": 12,
     "metadata": {},
     "output_type": "execute_result"
    }
   ],
   "source": [
    "a_tweets_df.describe()"
   ]
  },
  {
   "cell_type": "code",
   "execution_count": 13,
   "metadata": {},
   "outputs": [
    {
     "data": {
      "text/html": [
       "<div>\n",
       "<style scoped>\n",
       "    .dataframe tbody tr th:only-of-type {\n",
       "        vertical-align: middle;\n",
       "    }\n",
       "\n",
       "    .dataframe tbody tr th {\n",
       "        vertical-align: top;\n",
       "    }\n",
       "\n",
       "    .dataframe thead th {\n",
       "        text-align: right;\n",
       "    }\n",
       "</style>\n",
       "<table border=\"1\" class=\"dataframe\">\n",
       "  <thead>\n",
       "    <tr style=\"text-align: right;\">\n",
       "      <th></th>\n",
       "      <th>Tweet Id</th>\n",
       "    </tr>\n",
       "  </thead>\n",
       "  <tbody>\n",
       "    <tr>\n",
       "      <th>count</th>\n",
       "      <td>6.000000e+03</td>\n",
       "    </tr>\n",
       "    <tr>\n",
       "      <th>mean</th>\n",
       "      <td>1.306909e+18</td>\n",
       "    </tr>\n",
       "    <tr>\n",
       "      <th>std</th>\n",
       "      <td>1.213777e+16</td>\n",
       "    </tr>\n",
       "    <tr>\n",
       "      <th>min</th>\n",
       "      <td>1.290072e+18</td>\n",
       "    </tr>\n",
       "    <tr>\n",
       "      <th>25%</th>\n",
       "      <td>1.290151e+18</td>\n",
       "    </tr>\n",
       "    <tr>\n",
       "      <th>50%</th>\n",
       "      <td>1.312224e+18</td>\n",
       "    </tr>\n",
       "    <tr>\n",
       "      <th>75%</th>\n",
       "      <td>1.318348e+18</td>\n",
       "    </tr>\n",
       "    <tr>\n",
       "      <th>max</th>\n",
       "      <td>1.318432e+18</td>\n",
       "    </tr>\n",
       "  </tbody>\n",
       "</table>\n",
       "</div>"
      ],
      "text/plain": [
       "           Tweet Id\n",
       "count  6.000000e+03\n",
       "mean   1.306909e+18\n",
       "std    1.213777e+16\n",
       "min    1.290072e+18\n",
       "25%    1.290151e+18\n",
       "50%    1.312224e+18\n",
       "75%    1.318348e+18\n",
       "max    1.318432e+18"
      ]
     },
     "execution_count": 13,
     "metadata": {},
     "output_type": "execute_result"
    }
   ],
   "source": [
    "b_tweets_df.describe()"
   ]
  },
  {
   "cell_type": "code",
   "execution_count": 14,
   "metadata": {},
   "outputs": [
    {
     "data": {
      "text/html": [
       "<div>\n",
       "<style scoped>\n",
       "    .dataframe tbody tr th:only-of-type {\n",
       "        vertical-align: middle;\n",
       "    }\n",
       "\n",
       "    .dataframe tbody tr th {\n",
       "        vertical-align: top;\n",
       "    }\n",
       "\n",
       "    .dataframe thead th {\n",
       "        text-align: right;\n",
       "    }\n",
       "</style>\n",
       "<table border=\"1\" class=\"dataframe\">\n",
       "  <thead>\n",
       "    <tr style=\"text-align: right;\">\n",
       "      <th></th>\n",
       "      <th>Created At</th>\n",
       "      <th>Tweet Id</th>\n",
       "      <th>Tweet</th>\n",
       "      <th>Label</th>\n",
       "      <th>Length</th>\n",
       "    </tr>\n",
       "  </thead>\n",
       "  <tbody>\n",
       "    <tr>\n",
       "      <th>492</th>\n",
       "      <td>2020-10-03 00:53:53</td>\n",
       "      <td>1312194123957329920</td>\n",
       "      <td>A true leader! #CountryOverParty #VoteBiden #V...</td>\n",
       "      <td>Biden</td>\n",
       "      <td>98</td>\n",
       "    </tr>\n",
       "    <tr>\n",
       "      <th>209</th>\n",
       "      <td>2020-10-20 03:56:05</td>\n",
       "      <td>1318400572014415873</td>\n",
       "      <td>RT @TamikaGHamilton: Make this go viral @realD...</td>\n",
       "      <td>Trump</td>\n",
       "      <td>140</td>\n",
       "    </tr>\n",
       "    <tr>\n",
       "      <th>346</th>\n",
       "      <td>2020-10-20 05:08:45</td>\n",
       "      <td>1318418857581830146</td>\n",
       "      <td>#TrumpIsCompromised From Day 1  Trump has take...</td>\n",
       "      <td>Biden</td>\n",
       "      <td>144</td>\n",
       "    </tr>\n",
       "    <tr>\n",
       "      <th>156</th>\n",
       "      <td>2020-08-02 23:26:29</td>\n",
       "      <td>1290066469200334849</td>\n",
       "      <td>RT @petro21805: Donald Trump announced that he...</td>\n",
       "      <td>Biden</td>\n",
       "      <td>140</td>\n",
       "    </tr>\n",
       "    <tr>\n",
       "      <th>156</th>\n",
       "      <td>2020-08-03 03:16:01</td>\n",
       "      <td>1290124234040020993</td>\n",
       "      <td>These Republicans hate government and don't wa...</td>\n",
       "      <td>Biden</td>\n",
       "      <td>140</td>\n",
       "    </tr>\n",
       "  </tbody>\n",
       "</table>\n",
       "</div>"
      ],
      "text/plain": [
       "             Created At             Tweet Id  \\\n",
       "492 2020-10-03 00:53:53  1312194123957329920   \n",
       "209 2020-10-20 03:56:05  1318400572014415873   \n",
       "346 2020-10-20 05:08:45  1318418857581830146   \n",
       "156 2020-08-02 23:26:29  1290066469200334849   \n",
       "156 2020-08-03 03:16:01  1290124234040020993   \n",
       "\n",
       "                                                 Tweet  Label  Length  \n",
       "492  A true leader! #CountryOverParty #VoteBiden #V...  Biden      98  \n",
       "209  RT @TamikaGHamilton: Make this go viral @realD...  Trump     140  \n",
       "346  #TrumpIsCompromised From Day 1  Trump has take...  Biden     144  \n",
       "156  RT @petro21805: Donald Trump announced that he...  Biden     140  \n",
       "156  These Republicans hate government and don't wa...  Biden     140  "
      ]
     },
     "execution_count": 14,
     "metadata": {},
     "output_type": "execute_result"
    }
   ],
   "source": [
    "a_tweets_df['Label'] = 'Biden'\n",
    "b_tweets_df['Label'] = 'Trump'\n",
    "\n",
    "tweets_df = pd.concat([a_tweets_df,b_tweets_df])\n",
    "\n",
    "tweets_df['Length'] = tweets_df['Tweet'].apply(len)\n",
    "\n",
    "tweets_df = tweets_df.sample(frac=1)\n",
    "\n",
    "tweets_df.head()"
   ]
  },
  {
   "cell_type": "code",
   "execution_count": 15,
   "metadata": {},
   "outputs": [],
   "source": [
    "tweets_df.to_csv(\"tweetsfortrain.csv\", index = False, header = True)"
   ]
  },
  {
   "cell_type": "code",
   "execution_count": 6,
   "metadata": {},
   "outputs": [],
   "source": [
    "# Only run this line if reading from existing .csv file\n",
    "import pandas as pd\n",
    "tweets_df = pd.read_csv(\"tweetsfortrain.csv\")"
   ]
  },
  {
   "cell_type": "code",
   "execution_count": 7,
   "metadata": {},
   "outputs": [
    {
     "data": {
      "text/html": [
       "<div>\n",
       "<style scoped>\n",
       "    .dataframe tbody tr th:only-of-type {\n",
       "        vertical-align: middle;\n",
       "    }\n",
       "\n",
       "    .dataframe tbody tr th {\n",
       "        vertical-align: top;\n",
       "    }\n",
       "\n",
       "    .dataframe thead th {\n",
       "        text-align: right;\n",
       "    }\n",
       "</style>\n",
       "<table border=\"1\" class=\"dataframe\">\n",
       "  <thead>\n",
       "    <tr style=\"text-align: right;\">\n",
       "      <th></th>\n",
       "      <th>Created At</th>\n",
       "      <th>Tweet Id</th>\n",
       "      <th>Tweet</th>\n",
       "      <th>Label</th>\n",
       "      <th>Length</th>\n",
       "    </tr>\n",
       "  </thead>\n",
       "  <tbody>\n",
       "    <tr>\n",
       "      <th>0</th>\n",
       "      <td>2020-10-03 00:53:53</td>\n",
       "      <td>1312194123957329920</td>\n",
       "      <td>A true leader! #CountryOverParty #VoteBiden #V...</td>\n",
       "      <td>Biden</td>\n",
       "      <td>98</td>\n",
       "    </tr>\n",
       "    <tr>\n",
       "      <th>1</th>\n",
       "      <td>2020-10-20 03:56:05</td>\n",
       "      <td>1318400572014415873</td>\n",
       "      <td>RT @TamikaGHamilton: Make this go viral @realD...</td>\n",
       "      <td>Trump</td>\n",
       "      <td>140</td>\n",
       "    </tr>\n",
       "    <tr>\n",
       "      <th>2</th>\n",
       "      <td>2020-10-20 05:08:45</td>\n",
       "      <td>1318418857581830146</td>\n",
       "      <td>#TrumpIsCompromised From Day 1  Trump has take...</td>\n",
       "      <td>Biden</td>\n",
       "      <td>144</td>\n",
       "    </tr>\n",
       "    <tr>\n",
       "      <th>3</th>\n",
       "      <td>2020-08-02 23:26:29</td>\n",
       "      <td>1290066469200334849</td>\n",
       "      <td>RT @petro21805: Donald Trump announced that he...</td>\n",
       "      <td>Biden</td>\n",
       "      <td>140</td>\n",
       "    </tr>\n",
       "    <tr>\n",
       "      <th>4</th>\n",
       "      <td>2020-08-03 03:16:01</td>\n",
       "      <td>1290124234040020993</td>\n",
       "      <td>These Republicans hate government and don't wa...</td>\n",
       "      <td>Biden</td>\n",
       "      <td>140</td>\n",
       "    </tr>\n",
       "  </tbody>\n",
       "</table>\n",
       "</div>"
      ],
      "text/plain": [
       "            Created At             Tweet Id  \\\n",
       "0  2020-10-03 00:53:53  1312194123957329920   \n",
       "1  2020-10-20 03:56:05  1318400572014415873   \n",
       "2  2020-10-20 05:08:45  1318418857581830146   \n",
       "3  2020-08-02 23:26:29  1290066469200334849   \n",
       "4  2020-08-03 03:16:01  1290124234040020993   \n",
       "\n",
       "                                               Tweet  Label  Length  \n",
       "0  A true leader! #CountryOverParty #VoteBiden #V...  Biden      98  \n",
       "1  RT @TamikaGHamilton: Make this go viral @realD...  Trump     140  \n",
       "2  #TrumpIsCompromised From Day 1  Trump has take...  Biden     144  \n",
       "3  RT @petro21805: Donald Trump announced that he...  Biden     140  \n",
       "4  These Republicans hate government and don't wa...  Biden     140  "
      ]
     },
     "execution_count": 7,
     "metadata": {},
     "output_type": "execute_result"
    }
   ],
   "source": [
    "tweets_df.head()"
   ]
  },
  {
   "cell_type": "code",
   "execution_count": 8,
   "metadata": {},
   "outputs": [],
   "source": [
    "tweets_df.drop_duplicates(subset='Tweet',inplace=True)"
   ]
  },
  {
   "cell_type": "code",
   "execution_count": 9,
   "metadata": {},
   "outputs": [
    {
     "data": {
      "text/plain": [
       "count    6559.000000\n",
       "mean      116.777100\n",
       "std        33.465622\n",
       "min         9.000000\n",
       "25%        98.500000\n",
       "50%       138.000000\n",
       "75%       140.000000\n",
       "max       152.000000\n",
       "Name: Length, dtype: float64"
      ]
     },
     "execution_count": 9,
     "metadata": {},
     "output_type": "execute_result"
    },
    {
     "data": {
      "image/png": "[encoded data removed]",
      "text/plain": [
       "<Figure size 432x288 with 1 Axes>"
      ]
     },
     "metadata": {
      "needs_background": "light"
     },
     "output_type": "display_data"
    }
   ],
   "source": [
    "import matplotlib.pyplot as plt\n",
    "import seaborn as sns\n",
    "\n",
    "%matplotlib inline\n",
    "\n",
    "tweets_df['Length'].plot(bins=50, kind='hist') \n",
    "tweets_df['Length'].describe()"
   ]
  },
  {
   "cell_type": "code",
   "execution_count": 10,
   "metadata": {},
   "outputs": [
    {
     "data": {
      "text/plain": [
       "0    [true, leader, countryoverparty, votebiden, vo...\n",
       "1    [tamikaghamilton, make, go, viral, realdonaldt...\n",
       "2    [trumpiscompromised, day, 1, trump, taken, pat...\n",
       "3    [petro21805, donald, trump, announced, plans, ...\n",
       "4    [republicans, hate, government, dont, want, go...\n",
       "Name: Tweet, dtype: object"
      ]
     },
     "execution_count": 10,
     "metadata": {},
     "output_type": "execute_result"
    }
   ],
   "source": [
    "import string\n",
    "import re\n",
    "from nltk.corpus import stopwords\n",
    "from nltk.util import ngrams\n",
    "\n",
    "def text_process(mess):\n",
    "\n",
    "#    mess = re.sub('@[^\\s]+', 'AT_USER', mess)\n",
    "    \n",
    "    mess = re.sub('((www\\.[^\\s]+)|(https?://[^\\s]+))', 'URL', mess)\n",
    "    \n",
    "#    mess = re.sub('#[^\\s]+', 'HASHTAG', mess)\n",
    "    \n",
    "    nopunc = [char for char in mess if char not in string.punctuation]\n",
    "\n",
    "    nopunc = ''.join(nopunc)\n",
    "    \n",
    "    words = [word.lower() for word in nopunc.split() if word.lower() not in set(stopwords.words('english') + ['url','rt','hashtag'])]\n",
    "\n",
    "    return words\n",
    "\n",
    "#    return ngrams(words,2)\n",
    "\n",
    "tweets_df['Tweet'].head(5).apply(text_process)"
   ]
  },
  {
   "cell_type": "code",
   "execution_count": 11,
   "metadata": {},
   "outputs": [
    {
     "name": "stdout",
     "output_type": "stream",
     "text": [
      "16633\n"
     ]
    }
   ],
   "source": [
    "from sklearn.feature_extraction.text import CountVectorizer\n",
    "bow_transformer = CountVectorizer(analyzer=text_process).fit(tweets_df['Tweet'])\n",
    "print(len(bow_transformer.vocabulary_))"
   ]
  },
  {
   "cell_type": "code",
   "execution_count": 12,
   "metadata": {},
   "outputs": [
    {
     "name": "stdout",
     "output_type": "stream",
     "text": [
      "Shape of Sparse Matrix:  (6559, 16633)\n",
      "Amount of Non-Zero occurences:  61908\n"
     ]
    }
   ],
   "source": [
    "tweets_bow = bow_transformer.transform(tweets_df['Tweet'])\n",
    "print('Shape of Sparse Matrix: ', tweets_bow.shape)\n",
    "print('Amount of Non-Zero occurences: ', tweets_bow.nnz)"
   ]
  },
  {
   "cell_type": "code",
   "execution_count": 13,
   "metadata": {},
   "outputs": [
    {
     "name": "stdout",
     "output_type": "stream",
     "text": [
      "(6559, 16633)\n"
     ]
    }
   ],
   "source": [
    "from sklearn.feature_extraction.text import TfidfTransformer\n",
    "tfidf_transformer = TfidfTransformer().fit(tweets_bow)\n",
    "\n",
    "tweets_tfidf = tfidf_transformer.transform(tweets_bow)\n",
    "print(tweets_tfidf.shape)"
   ]
  },
  {
   "cell_type": "code",
   "execution_count": 14,
   "metadata": {},
   "outputs": [
    {
     "name": "stdout",
     "output_type": "stream",
     "text": [
      "5247 1312 6559\n"
     ]
    }
   ],
   "source": [
    "from sklearn.naive_bayes import MultinomialNB\n",
    "from sklearn.model_selection import train_test_split\n",
    "\n",
    "tweet_train, tweet_test, label_train, label_test = train_test_split(tweets_df['Tweet'], tweets_df['Label'], test_size=0.2)\n",
    "\n",
    "print(len(tweet_train), len(tweet_test), len(tweet_train) + len(tweet_test))"
   ]
  },
  {
   "cell_type": "code",
   "execution_count": 15,
   "metadata": {},
   "outputs": [],
   "source": [
    "from sklearn.pipeline import Pipeline\n",
    "\n",
    "pipeline = Pipeline([\n",
    "    ('bow', CountVectorizer(analyzer=text_process)),\n",
    "    ('tfidf', TfidfTransformer()),\n",
    "    ('classifier', MultinomialNB()),\n",
    "])"
   ]
  },
  {
   "cell_type": "code",
   "execution_count": 16,
   "metadata": {},
   "outputs": [
    {
     "data": {
      "text/plain": [
       "Pipeline(memory=None,\n",
       "         steps=[('bow',\n",
       "                 CountVectorizer(analyzer=<function text_process at 0x7fd5d95390d0>,\n",
       "                                 binary=False, decode_error='strict',\n",
       "                                 dtype=<class 'numpy.int64'>, encoding='utf-8',\n",
       "                                 input='content', lowercase=True, max_df=1.0,\n",
       "                                 max_features=None, min_df=1,\n",
       "                                 ngram_range=(1, 1), preprocessor=None,\n",
       "                                 stop_words=None, strip_accents=None,\n",
       "                                 token_pattern='(?u)\\\\b\\\\w\\\\w+\\\\b',\n",
       "                                 tokenizer=None, vocabulary=None)),\n",
       "                ('tfidf',\n",
       "                 TfidfTransformer(norm='l2', smooth_idf=True,\n",
       "                                  sublinear_tf=False, use_idf=True)),\n",
       "                ('classifier',\n",
       "                 MultinomialNB(alpha=1.0, class_prior=None, fit_prior=True))],\n",
       "         verbose=False)"
      ]
     },
     "execution_count": 16,
     "metadata": {},
     "output_type": "execute_result"
    }
   ],
   "source": [
    "pipeline.fit(tweet_train,label_train)"
   ]
  },
  {
   "cell_type": "code",
   "execution_count": 17,
   "metadata": {},
   "outputs": [],
   "source": [
    "predictions = pipeline.predict(tweet_test)"
   ]
  },
  {
   "cell_type": "code",
   "execution_count": 18,
   "metadata": {},
   "outputs": [
    {
     "name": "stdout",
     "output_type": "stream",
     "text": [
      "              precision    recall  f1-score   support\n",
      "\n",
      "       Biden       0.86      0.90      0.88       573\n",
      "       Trump       0.92      0.88      0.90       739\n",
      "\n",
      "    accuracy                           0.89      1312\n",
      "   macro avg       0.89      0.89      0.89      1312\n",
      "weighted avg       0.89      0.89      0.89      1312\n",
      "\n"
     ]
    }
   ],
   "source": [
    "from sklearn.metrics import classification_report\n",
    "print(classification_report(predictions,label_test))"
   ]
  },
  {
   "cell_type": "code",
   "execution_count": 19,
   "metadata": {},
   "outputs": [
    {
     "name": "stderr",
     "output_type": "stream",
     "text": [
      "/Users/lauhiuyan/anaconda3/lib/python3.7/site-packages/sklearn/externals/joblib/__init__.py:15: DeprecationWarning: sklearn.externals.joblib is deprecated in 0.21 and will be removed in 0.23. Please import this functionality directly from joblib, which can be installed with: pip install joblib. If this warning is raised when loading pickled models, you may need to re-serialize those models with scikit-learn 0.21+.\n",
      "  warnings.warn(msg, category=DeprecationWarning)\n"
     ]
    },
    {
     "data": {
      "text/plain": [
       "['election_nlp_v1.x']"
      ]
     },
     "execution_count": 19,
     "metadata": {},
     "output_type": "execute_result"
    }
   ],
   "source": [
    "from sklearn.externals import joblib\n",
    "\n",
    "joblib.dump(pipeline, 'election_nlp_v1.x')"
   ]
  },
  {
   "cell_type": "code",
   "execution_count": 29,
   "metadata": {},
   "outputs": [],
   "source": [
    "c_text_query = '#2020election OR #uselection'\n",
    "\n",
    "# T-30 Days\n",
    "todate = '202010030000'\n",
    "\n",
    "c_tweets_df = scrapetweets(c_text_query, todate)\n",
    "for c in range(0,3):\n",
    "    toDT = str(int(todate) + 200 + c*200)\n",
    "    c_tweets_df = c_tweets_df.append(scrapetweets(c_text_query, toDT))"
   ]
  },
  {
   "cell_type": "code",
   "execution_count": 30,
   "metadata": {},
   "outputs": [],
   "source": [
    "c_tweets_df.columns = ['Created At','Tweet Id','Tweet']"
   ]
  },
  {
   "cell_type": "code",
   "execution_count": 31,
   "metadata": {},
   "outputs": [
    {
     "data": {
      "text/html": [
       "<div>\n",
       "<style scoped>\n",
       "    .dataframe tbody tr th:only-of-type {\n",
       "        vertical-align: middle;\n",
       "    }\n",
       "\n",
       "    .dataframe tbody tr th {\n",
       "        vertical-align: top;\n",
       "    }\n",
       "\n",
       "    .dataframe thead th {\n",
       "        text-align: right;\n",
       "    }\n",
       "</style>\n",
       "<table border=\"1\" class=\"dataframe\">\n",
       "  <thead>\n",
       "    <tr style=\"text-align: right;\">\n",
       "      <th></th>\n",
       "      <th>Tweet Id</th>\n",
       "    </tr>\n",
       "  </thead>\n",
       "  <tbody>\n",
       "    <tr>\n",
       "      <th>count</th>\n",
       "      <td>2.000000e+03</td>\n",
       "    </tr>\n",
       "    <tr>\n",
       "      <th>mean</th>\n",
       "      <td>1.312178e+18</td>\n",
       "    </tr>\n",
       "    <tr>\n",
       "      <th>std</th>\n",
       "      <td>3.384499e+13</td>\n",
       "    </tr>\n",
       "    <tr>\n",
       "      <th>min</th>\n",
       "      <td>1.312118e+18</td>\n",
       "    </tr>\n",
       "    <tr>\n",
       "      <th>25%</th>\n",
       "      <td>1.312153e+18</td>\n",
       "    </tr>\n",
       "    <tr>\n",
       "      <th>50%</th>\n",
       "      <td>1.312173e+18</td>\n",
       "    </tr>\n",
       "    <tr>\n",
       "      <th>75%</th>\n",
       "      <td>1.312202e+18</td>\n",
       "    </tr>\n",
       "    <tr>\n",
       "      <th>max</th>\n",
       "      <td>1.312271e+18</td>\n",
       "    </tr>\n",
       "  </tbody>\n",
       "</table>\n",
       "</div>"
      ],
      "text/plain": [
       "           Tweet Id\n",
       "count  2.000000e+03\n",
       "mean   1.312178e+18\n",
       "std    3.384499e+13\n",
       "min    1.312118e+18\n",
       "25%    1.312153e+18\n",
       "50%    1.312173e+18\n",
       "75%    1.312202e+18\n",
       "max    1.312271e+18"
      ]
     },
     "execution_count": 31,
     "metadata": {},
     "output_type": "execute_result"
    }
   ],
   "source": [
    "c_tweets_df.describe()"
   ]
  },
  {
   "cell_type": "code",
   "execution_count": 32,
   "metadata": {},
   "outputs": [
    {
     "data": {
      "text/html": [
       "<div>\n",
       "<style scoped>\n",
       "    .dataframe tbody tr th:only-of-type {\n",
       "        vertical-align: middle;\n",
       "    }\n",
       "\n",
       "    .dataframe tbody tr th {\n",
       "        vertical-align: top;\n",
       "    }\n",
       "\n",
       "    .dataframe thead th {\n",
       "        text-align: right;\n",
       "    }\n",
       "</style>\n",
       "<table border=\"1\" class=\"dataframe\">\n",
       "  <thead>\n",
       "    <tr style=\"text-align: right;\">\n",
       "      <th></th>\n",
       "      <th>Created At</th>\n",
       "      <th>Tweet Id</th>\n",
       "      <th>Tweet</th>\n",
       "      <th>Length</th>\n",
       "    </tr>\n",
       "  </thead>\n",
       "  <tbody>\n",
       "    <tr>\n",
       "      <th>0</th>\n",
       "      <td>2020-10-02 23:59:15</td>\n",
       "      <td>1312180375267885057</td>\n",
       "      <td>RT @Raulpinaavila4: Get to know your ballot me...</td>\n",
       "      <td>140</td>\n",
       "    </tr>\n",
       "    <tr>\n",
       "      <th>1</th>\n",
       "      <td>2020-10-02 23:58:39</td>\n",
       "      <td>1312180225854251008</td>\n",
       "      <td>RT @Tairlisis: Who do you think will win the #...</td>\n",
       "      <td>61</td>\n",
       "    </tr>\n",
       "    <tr>\n",
       "      <th>2</th>\n",
       "      <td>2020-10-02 23:58:10</td>\n",
       "      <td>1312180102705283073</td>\n",
       "      <td>RT @ScottGilesMusic: #2020Election #AmericaOrT...</td>\n",
       "      <td>138</td>\n",
       "    </tr>\n",
       "    <tr>\n",
       "      <th>3</th>\n",
       "      <td>2020-10-02 23:57:38</td>\n",
       "      <td>1312179967866806272</td>\n",
       "      <td>#SanDiego @sdut endorses @JoeBiden for Preside...</td>\n",
       "      <td>92</td>\n",
       "    </tr>\n",
       "    <tr>\n",
       "      <th>4</th>\n",
       "      <td>2020-10-02 23:57:28</td>\n",
       "      <td>1312179926053732373</td>\n",
       "      <td>RT @qweekat: To ensure a postmark add a stamp ...</td>\n",
       "      <td>144</td>\n",
       "    </tr>\n",
       "  </tbody>\n",
       "</table>\n",
       "</div>"
      ],
      "text/plain": [
       "           Created At             Tweet Id  \\\n",
       "0 2020-10-02 23:59:15  1312180375267885057   \n",
       "1 2020-10-02 23:58:39  1312180225854251008   \n",
       "2 2020-10-02 23:58:10  1312180102705283073   \n",
       "3 2020-10-02 23:57:38  1312179967866806272   \n",
       "4 2020-10-02 23:57:28  1312179926053732373   \n",
       "\n",
       "                                               Tweet  Length  \n",
       "0  RT @Raulpinaavila4: Get to know your ballot me...     140  \n",
       "1  RT @Tairlisis: Who do you think will win the #...      61  \n",
       "2  RT @ScottGilesMusic: #2020Election #AmericaOrT...     138  \n",
       "3  #SanDiego @sdut endorses @JoeBiden for Preside...      92  \n",
       "4  RT @qweekat: To ensure a postmark add a stamp ...     144  "
      ]
     },
     "execution_count": 32,
     "metadata": {},
     "output_type": "execute_result"
    }
   ],
   "source": [
    "c_tweets_df['Length'] = c_tweets_df['Tweet'].apply(len)\n",
    "c_tweets_df.head()"
   ]
  },
  {
   "cell_type": "code",
   "execution_count": 41,
   "metadata": {},
   "outputs": [],
   "source": [
    "# Only run this line if reading from existing .csv file\n",
    "c_tweets_df = pd.read_csv(\"predictionresult_2020_t90.csv\")"
   ]
  },
  {
   "cell_type": "code",
   "execution_count": 42,
   "metadata": {},
   "outputs": [],
   "source": [
    "c_tweets_df.drop_duplicates(subset='Tweet',inplace=True)"
   ]
  },
  {
   "cell_type": "code",
   "execution_count": 43,
   "metadata": {},
   "outputs": [],
   "source": [
    "predictions_c = pipeline.predict(c_tweets_df['Tweet'])"
   ]
  },
  {
   "cell_type": "code",
   "execution_count": 44,
   "metadata": {},
   "outputs": [
    {
     "data": {
      "text/plain": [
       "array(['Biden', 'Biden', 'Biden', 'Biden', 'Biden', 'Biden', 'Biden',\n",
       "       'Trump', 'Biden', 'Biden', 'Biden', 'Trump', 'Biden', 'Biden',\n",
       "       'Biden', 'Trump', 'Trump', 'Biden', 'Biden', 'Biden', 'Biden',\n",
       "       'Biden', 'Trump', 'Biden', 'Biden', 'Trump', 'Trump', 'Trump',\n",
       "       'Biden', 'Biden', 'Biden', 'Trump', 'Biden', 'Biden', 'Biden',\n",
       "       'Trump', 'Biden', 'Biden', 'Trump', 'Biden', 'Trump', 'Biden',\n",
       "       'Trump', 'Trump', 'Trump', 'Biden', 'Biden', 'Biden', 'Biden',\n",
       "       'Trump', 'Biden', 'Trump', 'Trump', 'Trump', 'Biden', 'Trump',\n",
       "       'Trump', 'Trump', 'Biden', 'Biden', 'Biden', 'Biden', 'Biden',\n",
       "       'Trump', 'Biden', 'Biden', 'Biden', 'Biden', 'Trump', 'Biden',\n",
       "       'Biden', 'Biden', 'Biden', 'Trump', 'Trump', 'Trump', 'Biden',\n",
       "       'Biden', 'Trump', 'Trump', 'Biden', 'Biden', 'Trump', 'Biden',\n",
       "       'Biden', 'Biden', 'Trump', 'Trump', 'Trump', 'Biden', 'Biden',\n",
       "       'Biden', 'Biden', 'Trump', 'Biden', 'Biden', 'Trump', 'Biden',\n",
       "       'Biden', 'Biden', 'Biden', 'Trump', 'Biden', 'Biden', 'Biden',\n",
       "       'Biden', 'Trump', 'Biden', 'Biden', 'Biden', 'Biden', 'Biden',\n",
       "       'Biden', 'Biden', 'Biden', 'Biden', 'Biden', 'Biden', 'Trump',\n",
       "       'Trump', 'Biden', 'Biden', 'Biden', 'Biden', 'Biden', 'Biden',\n",
       "       'Biden', 'Biden', 'Biden', 'Biden', 'Biden', 'Biden', 'Biden',\n",
       "       'Trump', 'Trump', 'Biden', 'Trump', 'Biden', 'Biden', 'Biden',\n",
       "       'Trump', 'Biden', 'Biden', 'Biden', 'Biden', 'Trump', 'Biden',\n",
       "       'Biden', 'Biden', 'Biden', 'Trump', 'Biden', 'Trump', 'Biden',\n",
       "       'Biden', 'Biden', 'Biden', 'Biden', 'Biden', 'Trump', 'Trump',\n",
       "       'Trump', 'Trump', 'Trump', 'Biden', 'Biden', 'Biden', 'Biden',\n",
       "       'Trump', 'Biden', 'Trump', 'Biden', 'Trump', 'Trump', 'Trump',\n",
       "       'Trump', 'Trump', 'Biden', 'Biden', 'Biden', 'Trump', 'Trump',\n",
       "       'Trump', 'Trump', 'Biden', 'Biden', 'Biden', 'Biden', 'Trump',\n",
       "       'Biden', 'Biden', 'Trump', 'Trump', 'Trump', 'Biden', 'Biden',\n",
       "       'Biden', 'Trump', 'Biden', 'Biden', 'Trump', 'Biden', 'Biden',\n",
       "       'Trump', 'Biden', 'Biden', 'Biden', 'Trump', 'Trump', 'Trump',\n",
       "       'Biden', 'Biden', 'Biden', 'Trump', 'Trump', 'Biden', 'Trump',\n",
       "       'Biden', 'Biden', 'Biden', 'Trump', 'Biden', 'Biden', 'Trump',\n",
       "       'Trump', 'Biden', 'Trump', 'Biden', 'Trump', 'Biden', 'Biden',\n",
       "       'Biden', 'Biden', 'Biden', 'Biden', 'Biden', 'Biden', 'Biden',\n",
       "       'Trump', 'Trump', 'Biden', 'Trump', 'Trump', 'Biden', 'Biden',\n",
       "       'Biden', 'Biden', 'Biden', 'Biden', 'Biden', 'Trump', 'Biden',\n",
       "       'Biden', 'Trump', 'Trump', 'Trump', 'Trump', 'Trump', 'Biden',\n",
       "       'Biden', 'Trump', 'Biden', 'Trump', 'Trump', 'Biden', 'Biden',\n",
       "       'Trump', 'Trump', 'Trump', 'Biden', 'Biden', 'Biden', 'Biden',\n",
       "       'Biden', 'Trump', 'Biden', 'Biden', 'Biden', 'Biden', 'Biden',\n",
       "       'Trump', 'Biden', 'Trump', 'Biden', 'Biden', 'Biden', 'Trump',\n",
       "       'Biden', 'Biden', 'Biden', 'Biden', 'Trump', 'Biden', 'Trump',\n",
       "       'Biden', 'Biden', 'Biden', 'Biden', 'Trump', 'Trump', 'Trump',\n",
       "       'Biden', 'Biden', 'Trump', 'Biden', 'Biden', 'Trump', 'Biden',\n",
       "       'Biden', 'Biden', 'Biden', 'Trump', 'Trump', 'Trump', 'Biden',\n",
       "       'Biden', 'Trump', 'Biden', 'Biden', 'Biden', 'Biden', 'Trump',\n",
       "       'Biden', 'Biden', 'Trump', 'Biden', 'Biden', 'Trump', 'Trump',\n",
       "       'Trump', 'Trump', 'Biden', 'Biden', 'Biden', 'Trump', 'Biden',\n",
       "       'Biden', 'Trump', 'Trump', 'Biden', 'Biden', 'Trump', 'Biden',\n",
       "       'Biden', 'Biden', 'Biden', 'Biden', 'Biden', 'Biden', 'Trump',\n",
       "       'Trump', 'Biden', 'Biden', 'Biden', 'Trump', 'Trump', 'Biden',\n",
       "       'Biden', 'Trump', 'Trump', 'Biden', 'Biden', 'Trump', 'Trump',\n",
       "       'Trump', 'Biden', 'Biden', 'Biden', 'Trump', 'Biden', 'Biden',\n",
       "       'Biden', 'Biden', 'Biden', 'Trump', 'Biden', 'Biden', 'Biden',\n",
       "       'Biden', 'Biden', 'Trump', 'Trump', 'Biden', 'Trump', 'Biden',\n",
       "       'Biden', 'Trump', 'Biden', 'Biden', 'Biden', 'Biden', 'Trump',\n",
       "       'Trump', 'Biden', 'Biden', 'Biden', 'Trump', 'Biden', 'Trump',\n",
       "       'Trump', 'Trump', 'Trump', 'Biden', 'Trump', 'Biden', 'Trump',\n",
       "       'Biden', 'Biden', 'Biden', 'Biden', 'Biden', 'Trump', 'Trump',\n",
       "       'Biden', 'Trump', 'Biden', 'Trump', 'Biden', 'Biden', 'Trump',\n",
       "       'Trump', 'Trump', 'Trump', 'Trump', 'Trump', 'Biden', 'Biden',\n",
       "       'Biden', 'Biden', 'Trump', 'Trump', 'Trump', 'Biden', 'Biden',\n",
       "       'Biden', 'Trump', 'Trump', 'Biden', 'Biden', 'Biden', 'Biden',\n",
       "       'Biden', 'Biden', 'Trump', 'Trump', 'Biden', 'Trump', 'Trump',\n",
       "       'Biden', 'Biden', 'Biden', 'Trump', 'Trump', 'Biden', 'Biden',\n",
       "       'Biden', 'Trump', 'Biden', 'Trump', 'Biden', 'Trump', 'Trump',\n",
       "       'Biden', 'Biden', 'Biden', 'Biden', 'Biden', 'Biden', 'Biden',\n",
       "       'Biden', 'Biden', 'Biden', 'Biden', 'Trump', 'Trump', 'Trump',\n",
       "       'Trump', 'Trump', 'Trump', 'Trump', 'Trump', 'Biden', 'Trump',\n",
       "       'Biden', 'Biden', 'Trump', 'Biden', 'Trump', 'Biden', 'Trump',\n",
       "       'Biden', 'Trump', 'Biden', 'Trump', 'Trump', 'Trump', 'Biden',\n",
       "       'Biden'], dtype='<U5')"
      ]
     },
     "execution_count": 44,
     "metadata": {},
     "output_type": "execute_result"
    }
   ],
   "source": [
    "predictions_c"
   ]
  },
  {
   "cell_type": "code",
   "execution_count": 45,
   "metadata": {},
   "outputs": [],
   "source": [
    "c_tweets_df['Prediction'] = predictions_c"
   ]
  },
  {
   "cell_type": "code",
   "execution_count": 46,
   "metadata": {},
   "outputs": [],
   "source": [
    "import numpy as np\n",
    "result_table = pd.DataFrame(np.array([sum(predictions_c == 'Trump'),sum(predictions_c == 'Biden')]) , columns=['Counts'])"
   ]
  },
  {
   "cell_type": "code",
   "execution_count": 47,
   "metadata": {},
   "outputs": [],
   "source": [
    "result_table.rename(index={0: \"Trump\", 1: \"Biden\"}, inplace=True)"
   ]
  },
  {
   "cell_type": "code",
   "execution_count": 48,
   "metadata": {},
   "outputs": [
    {
     "data": {
      "text/html": [
       "<div>\n",
       "<style scoped>\n",
       "    .dataframe tbody tr th:only-of-type {\n",
       "        vertical-align: middle;\n",
       "    }\n",
       "\n",
       "    .dataframe tbody tr th {\n",
       "        vertical-align: top;\n",
       "    }\n",
       "\n",
       "    .dataframe thead th {\n",
       "        text-align: right;\n",
       "    }\n",
       "</style>\n",
       "<table border=\"1\" class=\"dataframe\">\n",
       "  <thead>\n",
       "    <tr style=\"text-align: right;\">\n",
       "      <th></th>\n",
       "      <th>Counts</th>\n",
       "    </tr>\n",
       "  </thead>\n",
       "  <tbody>\n",
       "    <tr>\n",
       "      <th>Trump</th>\n",
       "      <td>186</td>\n",
       "    </tr>\n",
       "    <tr>\n",
       "      <th>Biden</th>\n",
       "      <td>312</td>\n",
       "    </tr>\n",
       "  </tbody>\n",
       "</table>\n",
       "</div>"
      ],
      "text/plain": [
       "       Counts\n",
       "Trump     186\n",
       "Biden     312"
      ]
     },
     "execution_count": 48,
     "metadata": {},
     "output_type": "execute_result"
    }
   ],
   "source": [
    "result_table"
   ]
  },
  {
   "cell_type": "code",
   "execution_count": 49,
   "metadata": {},
   "outputs": [],
   "source": [
    "c_tweets_df.to_csv(\"predictionresult_2020_t90_words.csv\", index = False, header = True)"
   ]
  },
  {
   "cell_type": "code",
   "execution_count": null,
   "metadata": {},
   "outputs": [],
   "source": []
  }
 ],
 "metadata": {
  "kernelspec": {
   "display_name": "Python 3",
   "language": "python",
   "name": "python3"
  },
  "language_info": {
   "codemirror_mode": {
    "name": "ipython",
    "version": 3
   },
   "file_extension": ".py",
   "mimetype": "text/x-python",
   "name": "python",
   "nbconvert_exporter": "python",
   "pygments_lexer": "ipython3",
   "version": "3.7.3"
  }
 },
 "nbformat": 4,
 "nbformat_minor": 2
}
